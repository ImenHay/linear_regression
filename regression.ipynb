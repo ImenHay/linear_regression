{
 "cells": [
  {
   "cell_type": "code",
   "execution_count": 1,
   "metadata": {},
   "outputs": [],
   "source": [
    "import numpy as np\n",
    "import pandas as pd\n",
    "import matplotlib.pyplot as plt\n",
    "import predict\n",
    "from IPython.display import Image"
   ]
  },
  {
   "cell_type": "code",
   "execution_count": 2,
   "metadata": {},
   "outputs": [],
   "source": [
    "dataset = pd.read_csv('data.csv')\n",
    "x = dataset.iloc[:,:-1].values\n",
    "y = dataset.iloc[:, -1].values"
   ]
  },
  {
   "cell_type": "code",
   "execution_count": 3,
   "metadata": {},
   "outputs": [],
   "source": [
    "def standardize(x):\n",
    "    x_mean = np.mean(x)\n",
    "    x_std = np.std(x)\n",
    "    x_stand = (x - x_mean) / x_std\n",
    "    return x_stand\n",
    "\n",
    "x_initial = x\n",
    "y_initial = y\n",
    "\n",
    "x = standardize(x)\n",
    "y = standardize(y)"
   ]
  },
  {
   "cell_type": "code",
   "execution_count": 4,
   "metadata": {},
   "outputs": [
    {
     "data": {
      "text/plain": [
       "<matplotlib.collections.PathCollection at 0x7f56f0332e10>"
      ]
     },
     "execution_count": 4,
     "metadata": {},
     "output_type": "execute_result"
    },
    {
     "data": {
      "image/png": "[encoded data removed]",
      "text/plain": [
       "<matplotlib.figure.Figure at 0x7f56f0385518>"
      ]
     },
     "metadata": {},
     "output_type": "display_data"
    }
   ],
   "source": [
    "plt.scatter(x, y)"
   ]
  },
  {
   "cell_type": "code",
   "execution_count": 5,
   "metadata": {},
   "outputs": [
    {
     "name": "stdout",
     "output_type": "stream",
     "text": [
      "[[ -2.14489633e-02]\n",
      " [  8.49959962e+03]]\n"
     ]
    }
   ],
   "source": [
    "theta = predict.get_params()\n",
    "print(theta)"
   ]
  },
  {
   "cell_type": "markdown",
   "metadata": {},
   "source": [
    "Pour pouvoir multiplier les matrices X et theta, on ajoute une colonne de 1 à X, ainsi on obtient:"
   ]
  },
  {
   "cell_type": "markdown",
   "metadata": {},
   "source": [
    "$X = \\begin{bmatrix} x^{(1)} & 1 \\\\ ... & ...\\\\x^{(m)} & 1 \\end{bmatrix}$\n",
    "\n",
    "$\\theta = \\begin{bmatrix} a\\\\b \\end{bmatrix}$\n",
    "\n",
    "$y = \\begin{bmatrix} y^{(1)}\\\\...\\\\y^{(m)} \\end{bmatrix}$ "
   ]
  },
  {
   "cell_type": "code",
   "execution_count": 6,
   "metadata": {},
   "outputs": [],
   "source": [
    "X = np.hstack((x, np.ones(x.shape)))"
   ]
  },
  {
   "cell_type": "code",
   "execution_count": 7,
   "metadata": {},
   "outputs": [],
   "source": [
    "y = y.reshape(y.shape[0],1)"
   ]
  },
  {
   "cell_type": "markdown",
   "metadata": {},
   "source": [
    "## Implémantation du modèle Linéaire"
   ]
  },
  {
   "cell_type": "markdown",
   "metadata": {},
   "source": [
    "Dans le sujet, l'équation du modèle à adopter est une fonction affine de la forme F(x) = ax + b"
   ]
  },
  {
   "cell_type": "code",
   "execution_count": 8,
   "metadata": {},
   "outputs": [
    {
     "data": {
      "image/png": "[encoded data removed]",
      "text/plain": [
       "<IPython.core.display.Image object>"
      ]
     },
     "execution_count": 8,
     "metadata": {},
     "output_type": "execute_result"
    }
   ],
   "source": [
    "Image(filename='fonction_f.png')"
   ]
  },
  {
   "cell_type": "markdown",
   "metadata": {},
   "source": [
    "L'équation ci-dessus correspond à la multiplication des matrices X et theta (theta = [a, b]): \n",
    "\n",
    "$F = X.\\theta$"
   ]
  },
  {
   "cell_type": "code",
   "execution_count": 9,
   "metadata": {},
   "outputs": [],
   "source": [
    "def model(X, theta):\n",
    "    return X.dot(theta)"
   ]
  },
  {
   "cell_type": "code",
   "execution_count": 10,
   "metadata": {},
   "outputs": [
    {
     "data": {
      "text/plain": [
       "[<matplotlib.lines.Line2D at 0x7f56f02f0978>]"
      ]
     },
     "execution_count": 10,
     "metadata": {},
     "output_type": "execute_result"
    },
    {
     "data": {
      "image/png": "[encoded data removed]",
      "text/plain": [
       "<matplotlib.figure.Figure at 0x7f56f02f0da0>"
      ]
     },
     "metadata": {},
     "output_type": "display_data"
    }
   ],
   "source": [
    "plt.scatter(x, y)\n",
    "plt.plot(x, model(X, theta), c='r')"
   ]
  },
  {
   "cell_type": "markdown",
   "metadata": {},
   "source": [
    "## La fonction coût :\n",
    "\n",
    "La fonction coût correspond à la somme des distances entre le prix prédit par le modèle et le prix réel pour l'ensemble des points.\n",
    "\n",
    "L'équation de la fonction coût est :\n",
    "\n",
    "## $ J(\\theta) = \\frac{1}{2m} \\sum_{i=0}^{m-1}\n",
    "(ax + b - y)^2 $\n",
    "\n",
    "## $ soit :  J(\\theta) = \\frac{1}{2m} \\sum_{i=0}^{m-1}\n",
    "(X.\\theta - y)^2 $"
   ]
  },
  {
   "cell_type": "code",
   "execution_count": 11,
   "metadata": {},
   "outputs": [],
   "source": [
    "def cost_function(X, y, theta):\n",
    "    m = len(y)\n",
    "    return 1/(2*m) * np.sum((model(X, theta) - y)**2)\n"
   ]
  },
  {
   "cell_type": "code",
   "execution_count": 309,
   "metadata": {},
   "outputs": [
    {
     "data": {
      "text/plain": [
       "36121597.330131717"
      ]
     },
     "execution_count": 309,
     "metadata": {},
     "output_type": "execute_result"
    }
   ],
   "source": [
    "cost_function(X, y, theta)"
   ]
  },
  {
   "cell_type": "markdown",
   "metadata": {},
   "source": [
    "## La méthode de descente de gradient: \n",
    "\n",
    "L'objectif est de trouver les valeurs optimales pour minimiser la fonction coût. La descente de gradient est un algorithme d'optimisation iterratif permettant de trouver le minimum d'une fonction convexe en convergeant progressivement vers ce point. On utilise ici cet algorithme pour trouver les valeurs a et b de theta.\n",
    "\n",
    "Le calcul du gradient permet d'indiquer la direction et l'importance de la pente au voisinage d'un point $x_i$.\n",
    "Dans la formule, $\\alpha$ correspond au \"pas\" (ou ratio d'apprentissage) que l'on aura choisi."
   ]
  },
  {
   "cell_type": "markdown",
   "metadata": {},
   "source": [
    "## Implémentation de l'algorithme de la descente de gradient"
   ]
  },
  {
   "cell_type": "markdown",
   "metadata": {},
   "source": [
    "### Formule du gradient:\n",
    "\n",
    "### $\\frac{\\partial J(\\theta) }{\\partial \\theta}$\n",
    "\n",
    "\n",
    "theta = [a, b]\n",
    "\n",
    "Le calcule du gradient au point a, correspond à la dérivé de la fonction coût $J$ en a (il en va de même pour le point b).\n",
    "\n",
    "Ainsi, pour faire converger a et b vers des valeurs optimales on applique les formules suivantes:\n",
    "\n",
    "###  $a_{i+1} = a_i - \\alpha \\frac{\\partial J }{\\partial a}$                        \n",
    "avec : $ \\frac{\\partial J }{\\partial a} = \\frac{1}{m} \\sum (ax + b - y)^2$ \n",
    "\n",
    "### $b_{i+1} = b_i - \\alpha \\frac{\\partial J }{\\partial b}$        \n",
    "avec : $ \\frac{\\partial J }{\\partial b} = \\frac{1}{m} \\sum x(ax + b - y)^2$ "
   ]
  },
  {
   "cell_type": "markdown",
   "metadata": {},
   "source": [
    "On notera que par rapport à la formule fournie dans le sujet, nous avons les correspondances suivantes:\n",
    "\n",
    "$rationDApprentissage =  \\alpha$\n",
    "\n",
    "$prix[i] = y$\n",
    "\n",
    "$prixEstime(kilométrage[i])$ correspond à la fonction $F(x) = ax + b$"
   ]
  },
  {
   "cell_type": "code",
   "execution_count": 312,
   "metadata": {},
   "outputs": [
    {
     "data": {
      "image/png": "[encoded data removed]",
      "text/plain": [
       "<IPython.core.display.Image object>"
      ]
     },
     "execution_count": 312,
     "metadata": {},
     "output_type": "execute_result"
    }
   ],
   "source": [
    "Image(filename='formules_thetas.png')"
   ]
  },
  {
   "cell_type": "markdown",
   "metadata": {},
   "source": [
    "L'inversion de matrice nous permet de calculer simultanément les valeurs a et b de theta de la sorte:"
   ]
  },
  {
   "cell_type": "markdown",
   "metadata": {},
   "source": [
    "Pour calculer le gradient:\n",
    "### $\\frac{\\partial J(\\theta) }{\\partial \\theta} = \\frac{1}{m} X^T.(X.\\theta - y)$\n",
    "\n",
    "\n",
    "Pour calculer theta:\n",
    "### $\\theta = \\theta - \\alpha \\frac{\\partial J(\\theta) }{\\partial \\theta}$"
   ]
  },
  {
   "cell_type": "code",
   "execution_count": 276,
   "metadata": {},
   "outputs": [],
   "source": [
    "def grad(X, y, theta):\n",
    "    m = len(y)\n",
    "    return 1/m * X.T.dot(model(X, theta) - y)"
   ]
  },
  {
   "cell_type": "code",
   "execution_count": 277,
   "metadata": {},
   "outputs": [],
   "source": [
    "def gradient_descent(X, y, theta, learning_rate, n_iterations):\n",
    "    cost_history = np.zeros(n_iterations)\n",
    "    for i in range(0, n_iterations):\n",
    "        theta = theta - learning_rate * grad(X, y, theta)\n",
    "        cost_history[i] = cost_function(X, y, theta)\n",
    "    return theta, cost_history"
   ]
  },
  {
   "cell_type": "markdown",
   "metadata": {},
   "source": [
    "# Phase d'entrainement:"
   ]
  },
  {
   "cell_type": "code",
   "execution_count": 278,
   "metadata": {},
   "outputs": [],
   "source": [
    "learning_rate=0.01\n",
    "n_iterations=1800\n",
    "theta_final, cost_history = gradient_descent(X, y, theta, learning_rate, n_iterations)"
   ]
  },
  {
   "cell_type": "code",
   "execution_count": 279,
   "metadata": {},
   "outputs": [
    {
     "data": {
      "text/plain": [
       "[<matplotlib.lines.Line2D at 0x7f4c525b0400>]"
      ]
     },
     "execution_count": 279,
     "metadata": {},
     "output_type": "execute_result"
    },
    {
     "data": {
      "image/png": "[encoded data removed]",
      "text/plain": [
       "<matplotlib.figure.Figure at 0x7f4c525b0518>"
      ]
     },
     "metadata": {},
     "output_type": "display_data"
    }
   ],
   "source": [
    "predictions = model(X, theta_final)\n",
    "plt.scatter(x, y)\n",
    "plt.plot(x, predictions, c='r')"
   ]
  },
  {
   "cell_type": "markdown",
   "metadata": {},
   "source": [
    "# Courbe d'apprentissage"
   ]
  },
  {
   "cell_type": "code",
   "execution_count": 280,
   "metadata": {},
   "outputs": [
    {
     "data": {
      "text/plain": [
       "[<matplotlib.lines.Line2D at 0x7f4c52530da0>]"
      ]
     },
     "execution_count": 280,
     "metadata": {},
     "output_type": "execute_result"
    },
    {
     "data": {
      "image/png": "[encoded data removed]",
      "text/plain": [
       "<matplotlib.figure.Figure at 0x7f4c525b0e10>"
      ]
     },
     "metadata": {},
     "output_type": "display_data"
    }
   ],
   "source": [
    "plt.plot(range(n_iterations), cost_history)"
   ]
  },
  {
   "cell_type": "markdown",
   "metadata": {},
   "source": [
    "# Evaluation de la performance du modèle\n",
    " Plus le résultat est proche de 1, plus le modèle est performant"
   ]
  },
  {
   "cell_type": "code",
   "execution_count": 281,
   "metadata": {},
   "outputs": [],
   "source": [
    "def coef_determination(y, pred):\n",
    "    u = ((y - pred)**2).sum()\n",
    "    v = ((y - y.mean())**2).sum()\n",
    "    return 1 - u/v"
   ]
  },
  {
   "cell_type": "code",
   "execution_count": 282,
   "metadata": {},
   "outputs": [
    {
     "data": {
      "text/plain": [
       "0.73297470783149632"
      ]
     },
     "execution_count": 282,
     "metadata": {},
     "output_type": "execute_result"
    }
   ],
   "source": [
    "coef_determination(y, predictions)"
   ]
  },
  {
   "cell_type": "markdown",
   "metadata": {},
   "source": [
    "## Méthode des moindres carrés\n",
    "\n",
    "Les données étant peu volumineux, il est possible de trouver les valeurs de a et b de façon plus direct par la methode des moindres  carrés, en appliquant la formule suivante:\n"
   ]
  },
  {
   "cell_type": "markdown",
   "metadata": {},
   "source": [
    "## $ S = \\sum_{i=1}^{m-1} ((y_i - (ax_i + b))^2 $"
   ]
  },
  {
   "cell_type": "markdown",
   "metadata": {},
   "source": [
    "### On obtient :"
   ]
  },
  {
   "cell_type": "markdown",
   "metadata": {},
   "source": [
    "## $ a = \\frac{m \\sum x_iy_i  -  \\sum x_i \\sum y_i}{m \\sum x_i^2  -  (\\sum x_i)^2} $"
   ]
  },
  {
   "cell_type": "markdown",
   "metadata": {},
   "source": [
    "## $ b = \\frac{1}{m}(\\sum y_i - a \\sum x_i) $"
   ]
  },
  {
   "cell_type": "code",
   "execution_count": 289,
   "metadata": {},
   "outputs": [],
   "source": [
    "def MoindreCarre(x, y):\n",
    "    x_sum = 0.\n",
    "    x2_sum = 0.\n",
    "    y_sum = 0.\n",
    "    xy_sum = 0.\n",
    "    \n",
    "    for xi, yi in zip(x, y):\n",
    "        x_sum += xi\n",
    "        x2_sum += xi**2\n",
    "        y_sum += yi\n",
    "        xy_sum += xi * yi\n",
    "        \n",
    "    m = len(x)\n",
    "    a = (m * xy_sum - x_sum * y_sum) / (m * x2_sum - x_sum**2)\n",
    "    b = y_sum - a * x_sum / m\n",
    "    return a, b"
   ]
  },
  {
   "cell_type": "code",
   "execution_count": 290,
   "metadata": {},
   "outputs": [],
   "source": [
    "a2, b2 = MoindreCarre(x, y)\n",
    "theta2 = np.array([a2, b2])\n",
    "predictions2 = model(X, theta2)"
   ]
  },
  {
   "cell_type": "code",
   "execution_count": 291,
   "metadata": {},
   "outputs": [
    {
     "data": {
      "text/plain": [
       "0.73297470783149654"
      ]
     },
     "execution_count": 291,
     "metadata": {},
     "output_type": "execute_result"
    }
   ],
   "source": [
    "coef_determination(y, predictions2)"
   ]
  },
  {
   "cell_type": "markdown",
   "metadata": {},
   "source": [
    "La précision obtenue par la méthode des moindres carrés n'est pas pas supérieur à la précision obtenue avec la méthode de descente de gradient. Donc, bien que la précision ne soit pas très élevée, on estime qu'on ne pourra pas améliorer la performance du modèle en continuant à manipuler les paramètres (valeur de $\\alpha$ et le nombre d'itérations) "
   ]
  },
  {
   "cell_type": "code",
   "execution_count": 295,
   "metadata": {},
   "outputs": [
    {
     "name": "stdout",
     "output_type": "stream",
     "text": [
      "Par la methode des moindres carré: a= [-0.02144896], b=[ 8499.59964993]\n",
      "Par la methode de descente de gradient: a= [-0.02144896], b=[ 8499.59961978]\n"
     ]
    }
   ],
   "source": [
    "def destandardize(a, b, xi, yi):\n",
    "    y_mean = np.mean(yi)\n",
    "    x_mean = np.mean(xi)\n",
    "    y_std = np.std(yi)\n",
    "    x_std = np.std(xi)\n",
    "    \n",
    "    a_destand = (y_std * a) / x_std\n",
    "    div = (a * x_mean) / x_std\n",
    "    b_destand = y_mean + (y_std * (b - div))\n",
    "    return a_destand, b_destand\n",
    "\n",
    "a2 = theta2[0]\n",
    "b2 = theta2[1]\n",
    "\n",
    "a = theta_final[0]\n",
    "b = theta_final[1]\n",
    "\n",
    "a2_destand, b2_destand = destandardize(a2,  b2, x_initial, y_initial)\n",
    "a_destand, b_destand = destandardize(a, b, x_initial, y_initial)\n",
    "\n",
    "print('Par la methode des moindres carré: a= {}, b={}'.format(a2_destand,  b2_destand))\n",
    "print('Par la methode de descente de gradient: a= {}, b={}'.format(a_destand,  b_destand))"
   ]
  },
  {
   "cell_type": "code",
   "execution_count": 296,
   "metadata": {},
   "outputs": [],
   "source": [
    "def save_theta(a, b):\n",
    "    with open('params.txt', 'w') as file:\n",
    "        thetas = file.write(f'{a} \\n{b}')"
   ]
  },
  {
   "cell_type": "code",
   "execution_count": 294,
   "metadata": {},
   "outputs": [],
   "source": [
    "save_theta(float(a_destand), float(b_destand))"
   ]
  },
  {
   "cell_type": "code",
   "execution_count": null,
   "metadata": {},
   "outputs": [],
   "source": []
  }
 ],
 "metadata": {
  "kernelspec": {
   "display_name": "Python 3",
   "language": "python",
   "name": "python3"
  },
  "language_info": {
   "codemirror_mode": {
    "name": "ipython",
    "version": 3
   },
   "file_extension": ".py",
   "mimetype": "text/x-python",
   "name": "python",
   "nbconvert_exporter": "python",
   "pygments_lexer": "ipython3",
   "version": "3.6.9"
  }
 },
 "nbformat": 4,
 "nbformat_minor": 2
}
